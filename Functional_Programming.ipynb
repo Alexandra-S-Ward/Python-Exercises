{
  "nbformat": 4,
  "nbformat_minor": 0,
  "metadata": {
    "colab": {
      "provenance": [],
      "toc_visible": true,
      "include_colab_link": true
    },
    "kernelspec": {
      "name": "python3",
      "display_name": "Python 3"
    },
    "language_info": {
      "name": "python"
    }
  },
  "cells": [
    {
      "cell_type": "markdown",
      "metadata": {
        "id": "view-in-github",
        "colab_type": "text"
      },
      "source": [
        "<a href=\"https://colab.research.google.com/github/Alexandra-S-Ward/Python-Exercises/blob/master/Functional_Programming.ipynb\" target=\"_parent\"><img src=\"https://colab.research.google.com/assets/colab-badge.svg\" alt=\"Open In Colab\"/></a>"
      ]
    },
    {
      "cell_type": "code",
      "execution_count": null,
      "metadata": {
        "id": "zXewcu9qW_5E"
      },
      "outputs": [],
      "source": [
        "from functools import reduce\n",
        "arr = [1,2,3,4]\n",
        "\n",
        "def multiply_array_by_five(array):\n",
        "    return array * 5 # On map(arr) => [5,10,15,20]\n",
        "\n",
        "def accumulator(acc, array):\n",
        "  return acc + array # On reduce(arr) => 10\n",
        "\n",
        "def is_even(item):\n",
        "  return item % 2 == 0 # On filter(arr) => [2,4]"
      ]
    },
    {
      "cell_type": "markdown",
      "source": [
        "\n",
        "\n",
        "---\n",
        "\n",
        "\n",
        "# Functional Programming\n",
        "Functional programming is a programming paradigm where functions return values that do not impact the program at large. Each function returns a variable, and it only impacts anything within it's own functions.\n",
        "\n",
        "Methods that follow this paradigm are shown above.\n",
        "\n",
        "Multiply\\_array\\_by\\_five() takes in a single array of any length, and multiplies every item within the array by five as shown above.\n",
        "Due to the use of map, this becomes a function instead of a method - map will return a new list with the results.\n",
        "\n",
        "\n",
        "**Map**(*function*, *parameter*) => returns a map object that can be casted with list(). As shown below.\n",
        "\n",
        "**Filter**(*function*,*parameter*) => return a filter object that can be casted\n",
        "with list() as shown below. Filter requires a boolean or it will return the \n",
        "unfiltered list."
      ],
      "metadata": {
        "id": "SG0mR0u7GzaY"
      }
    },
    {
      "cell_type": "code",
      "source": [
        "print(f'Map: {map(multiply_array_by_five, arr)}') # Show the map\n",
        "print(f'List(Map): {list(map(multiply_array_by_five, arr))}') # Make it useful\n",
        "print(f'Filter: {filter(is_even, arr)}') # Show the filter\n",
        "print(f'List(Filter): {list(filter(is_even, arr))}') # Make the filter useful\n",
        "\n",
        "# It requires a function that returns a boolean\n",
        "# Otherwise it doesn't do anything.\n",
        "print(f'Incorrect Function: {list(filter(multiply_array_by_five, arr))}')"
      ],
      "metadata": {
        "id": "ZULR6A9oXCp_",
        "colab": {
          "base_uri": "https://localhost:8080/"
        },
        "outputId": "23c3c8b2-a74b-44d8-9ac8-3805459548a7"
      },
      "execution_count": null,
      "outputs": [
        {
          "output_type": "stream",
          "name": "stdout",
          "text": [
            "Map: <map object at 0x7f2defe0aa30>\n",
            "List(Map): [5, 10, 15, 20]\n",
            "Filter: <filter object at 0x7f2defe0a970>\n",
            "List(Filter): [2, 4]\n",
            "Incorrect Function: [1, 2, 3, 4]\n"
          ]
        }
      ]
    },
    {
      "cell_type": "markdown",
      "source": [
        "**Reduce** allows you to accumulate every value of an array into a single item and will return it. In the above method **accumulator**, it takes in the accumumulator and the array. The accumulator is the item that the reduce function needs to store the values, and the array is the array which is acted upon.\n",
        "\n",
        "**Reduce**(*function*, *parameter*) => Returns a single object that is the culmination of the operation on the array. In this case, the **accumulator** function adds up the array itself.\n",
        "\n",
        "It is recursive and calls upon itself. Vaguely similar to the code below, but without the use of loops."
      ],
      "metadata": {
        "id": "KkfvPGwZIInW"
      }
    },
    {
      "cell_type": "code",
      "source": [
        "sum = 0\n",
        "for i in arr: # Similar to reduce. Iterate over the array and perform an action.\n",
        "  sum = sum + i\n",
        "print(f'Through loops: {sum}')\n",
        "print(f'Through Reduce: {reduce(accumulator, arr)}') # Return single value (int)\n",
        "arry2 = ['H','e','l','l','o']\n",
        "print(f'Reduced str: {reduce(accumulator, arry2)}') # Return single value (string)\n",
        "arry3 = ['3','2',3,2,1] # -> Error. Only works on compatible types.\n",
        "arr4 = [1,2,3.2,1,4.352] # -> + works on both float and int, this works\n",
        "print(f'Float/Int: {reduce(accumulator,arr4)}')"
      ],
      "metadata": {
        "colab": {
          "base_uri": "https://localhost:8080/"
        },
        "id": "MgmbAFU0JUEC",
        "outputId": "408b4114-25d1-4348-d841-78eb4b209347"
      },
      "execution_count": null,
      "outputs": [
        {
          "output_type": "stream",
          "name": "stdout",
          "text": [
            "Through loops: 10\n",
            "Through Reduce: 10\n",
            "Reduced str: Hello\n",
            "Float/Int: 11.552\n"
          ]
        }
      ]
    },
    {
      "cell_type": "markdown",
      "source": [
        "**Lambda Functions**\n",
        "Lambda functions are anonymous functions that are used sporadically as and when needed. They are not defined in the traditional syntax of def name(parameters*), they are defined through the use of the syntax\n",
        "\n",
        "```lambda (var): (function)``` <-- The result of function will be returned.\n",
        "\n",
        "Lambdas are useful for when there is a function that is used every so often, but not enough to justify a full definition for the functionality.\n",
        "\n",
        "Some example uses of lambda:"
      ],
      "metadata": {
        "id": "uUlJYWXrcW0p"
      }
    },
    {
      "cell_type": "code",
      "source": [
        "array_of_coords = [(1,2),(3,3.2),(4.5,3),(9,3.3491)]\n",
        "# If we want to sort this, we can do so.\n",
        "array_of_coords.sort()\n",
        "print(array_of_coords) # It sorted by index 0 (1,x)/(3,x)\n",
        "# What if we want to sort by index 1? Lambda.\n",
        "array_of_coords.sort(key = lambda x: x[1])\n",
        "print(array_of_coords)\n",
        "\n",
        "# We can use lambda for the functions above.\n",
        "# Using lambda and map to add 10 to an array\n",
        "arr = [1,2,3,4]\n",
        "print(f'Map Lambda {list(map(lambda x: x+10, arr))}') \n",
        "# Or to filter all odd numbers\n",
        "print(f'Filter Lambda {list(filter(lambda x: x % 2 == 1, arr))}')\n",
        "# Or to find the product sum of a list\n",
        "print(f'Reduce Lambda {reduce(lambda x,y : x * y, arr)}')\n",
        "# We can assign a lambda function to a variable and execute it like a normal fn\n",
        "lst = 'string'\n",
        "x = lambda x: x.upper() + '!'\n",
        "print(x(lst))"
      ],
      "metadata": {
        "colab": {
          "base_uri": "https://localhost:8080/"
        },
        "id": "l3PAq1XYcWTK",
        "outputId": "f5c55112-f480-4a6a-aea4-0f2bf2d061e1"
      },
      "execution_count": 16,
      "outputs": [
        {
          "output_type": "stream",
          "name": "stdout",
          "text": [
            "[(1, 2), (3, 3.2), (4.5, 3), (9, 3.3491)]\n",
            "[(1, 2), (4.5, 3), (3, 3.2), (9, 3.3491)]\n",
            "Map Lambda [11, 12, 13, 14]\n",
            "Filter Lambda [1, 3]\n",
            "Reduce Lambda 24\n",
            "STRING!\n"
          ]
        }
      ]
    },
    {
      "cell_type": "markdown",
      "source": [
        "\n",
        "\n",
        "---\n",
        "\n",
        "\n",
        "# Pandas\n",
        "\n",
        "\n",
        "Pandas is a library for python that has a vast array of uses for data handling and analysis, alongside NumPy. \n",
        "\n",
        "It is a fast and efficient library that utilises 'dataframes' to handle and manipulate data, with many of the tasks using vectorisation to take advantage of the benefits of CPU architecture.\n",
        "\n",
        "It provides tools and functionality to handle missing data, reshaping of data, merging and indexing data, and aggregating data.\n",
        "\n",
        "Many of the core functions are written in C, reducing the technological burden that Python has as a language given it's extremely high-level nature\n",
        "\n",
        "\n",
        "\n",
        "---\n",
        "\n",
        "\n",
        "**Core functionality.**"
      ],
      "metadata": {
        "id": "qt_uAmsfLNJx"
      }
    },
    {
      "cell_type": "code",
      "source": [
        "import pandas as pd\n",
        "import numpy as np\n",
        "# Create a dataframe through typing values.\n",
        "\n",
        "data_for_df = {\n",
        "    'Employee Name' : ['Alexandra', 'Rupali', 'Prosper', 'Devi'],\n",
        "    'Employee_ID' : [31, 3, 30, 27],\n",
        "    'Start Date' : ['20230124','20220601','20230124', '20230124']\n",
        "}\n",
        "df = pd.DataFrame(data_for_df)\n",
        "print(df) # Dataframe!\n",
        "\n",
        "# date range!\n",
        "d = pd.date_range('20230124',periods=10)\n",
        "df2 = pd.DataFrame( \n",
        "    np.random.randn(10,4), \n",
        "    index = d,\n",
        "    columns = ['Loc','Lat','Lon','Name']\n",
        ")\n",
        "print(df2)\n",
        "\n",
        "# DF can also be created through read_csv(), read_json(), read_pickle()"
      ],
      "metadata": {
        "colab": {
          "base_uri": "https://localhost:8080/"
        },
        "id": "X_FupTI9M2aD",
        "outputId": "5d2b81eb-580b-4cf1-e53b-9774138f6daf"
      },
      "execution_count": 19,
      "outputs": [
        {
          "output_type": "stream",
          "name": "stdout",
          "text": [
            "  Employee Name  Employee_ID Start Date\n",
            "0     Alexandra           31   20230124\n",
            "1        Rupali            3   20220601\n",
            "2       Prosper           30   20230124\n",
            "3          Devi           27   20230124\n",
            "                 Loc       Lat       Lon      Name\n",
            "2023-01-24  0.092959  2.151293 -0.477784 -0.859796\n",
            "2023-01-25 -0.267840  0.095101  0.504584  1.303535\n",
            "2023-01-26  1.018012 -0.626398 -0.266261  0.106551\n",
            "2023-01-27 -1.484401  0.710981  0.977980 -0.153814\n",
            "2023-01-28 -0.274777  0.624188 -0.187097 -1.996437\n",
            "2023-01-29 -0.298495  0.097368 -0.032207  1.226168\n",
            "2023-01-30 -0.988365 -1.946977 -0.097254  1.637589\n",
            "2023-01-31  0.612816  0.826229  0.109971  0.798513\n",
            "2023-02-01 -1.004896  0.135518 -0.221314 -0.301259\n",
            "2023-02-02 -0.121610  1.109123  0.767189  2.206645\n"
          ]
        }
      ]
    },
    {
      "cell_type": "code",
      "source": [
        "# Locating and splicing data.\n",
        "\n",
        "df.loc[0:1, 'Employee Name']  # Find \"Employee Name\" with values 0:1\n",
        "                              # It uses the label of the columns.\n",
        "print(f'DF Index: {df.index}') # Can be spliced. \n",
        "print()\n",
        "print(f'DF2 Index: {df2.index}') # Data indices\n",
        "print()\n",
        "# Collect the first three indices from columns 0:2\n",
        "print(f'Rows 0:3, Columns 0:2 \\n{df.iloc[0:3,0:2]}') \n",
        "print()\n",
        "print(f'Columns in df: {df.columns}')\n",
        "print()\n",
        "\n",
        "# Boolean testing through df[df['column](condition)]\n",
        "print(f\"\"\"Print info for Alexandra or Rupali, whoever is first \\n \n",
        "      {df[df['Employee Name'] == ('Alexandra' or 'Rupali')]}\n",
        "      \"\"\") \n"
      ],
      "metadata": {
        "colab": {
          "base_uri": "https://localhost:8080/"
        },
        "id": "ATWyPUIzN_SY",
        "outputId": "0f5e3ad3-5593-4087-da2d-b84a4332a5dc"
      },
      "execution_count": 22,
      "outputs": [
        {
          "output_type": "stream",
          "name": "stdout",
          "text": [
            "DF Index: RangeIndex(start=0, stop=4, step=1)\n",
            "\n",
            "DF2 Index: DatetimeIndex(['2023-01-24', '2023-01-25', '2023-01-26', '2023-01-27',\n",
            "               '2023-01-28', '2023-01-29', '2023-01-30', '2023-01-31',\n",
            "               '2023-02-01', '2023-02-02'],\n",
            "              dtype='datetime64[ns]', freq='D')\n",
            "\n",
            "Rows 0:3, Columns 0:2 \n",
            "  Employee Name  Employee_ID\n",
            "0     Alexandra           31\n",
            "1        Rupali            3\n",
            "2       Prosper           30\n",
            "\n",
            "Columns in df: Index(['Employee Name', 'Employee_ID', 'Start Date'], dtype='object')\n",
            "\n",
            "Print info for Alexandra or Rupali, whoever is first \n",
            " \n",
            "        Employee Name  Employee_ID Start Date\n",
            "0     Alexandra           31   20230124\n",
            "      \n"
          ]
        }
      ]
    },
    {
      "cell_type": "code",
      "source": [
        "df2.reindex(index=d[0:4], columns=list(df2.columns) + ['F'])\n",
        "\n",
        "df2.loc[d[0]:d[2], 'F'] = 1 # Change F at 0:2 to 1\n",
        "print(df2)\n",
        "df2.isna()"
      ],
      "metadata": {
        "id": "y0DcScYVR-i3"
      },
      "execution_count": null,
      "outputs": []
    },
    {
      "cell_type": "code",
      "source": [
        "df2_no_null = df2.dropna() # Returns a new df without nulls\n",
        "print(df2_no_null)  # No nulls!\n",
        "df2_filled_null = df2.fillna(value=2) # Fill in the nulls. Returns new df\n",
        "print(df2_filled_null)\n"
      ],
      "metadata": {
        "colab": {
          "base_uri": "https://localhost:8080/"
        },
        "id": "TiifdcJGTaTZ",
        "outputId": "8fe82e05-907c-45b9-cc96-fa5591ab6443"
      },
      "execution_count": null,
      "outputs": [
        {
          "output_type": "stream",
          "name": "stdout",
          "text": [
            "                 Loc       Lat       Lon      Name    F\n",
            "2023-01-24  0.475749  0.741898  0.366450  0.576687  1.0\n",
            "2023-01-25 -1.747522  0.205583  0.712716 -0.259162  1.0\n",
            "2023-01-26  0.084477 -0.609408  0.803665  0.123290  1.0\n",
            "                 Loc       Lat       Lon      Name    F\n",
            "2023-01-24  0.475749  0.741898  0.366450  0.576687  1.0\n",
            "2023-01-25 -1.747522  0.205583  0.712716 -0.259162  1.0\n",
            "2023-01-26  0.084477 -0.609408  0.803665  0.123290  1.0\n",
            "2023-01-27 -1.239372 -0.662328 -1.074490  1.706764  2.0\n",
            "2023-01-28  0.130732 -1.912783  0.168224 -0.388228  2.0\n",
            "2023-01-29 -1.073162 -0.244553 -2.294275  0.554815  2.0\n",
            "2023-01-30 -1.420320 -0.812712  1.182256  0.749206  2.0\n",
            "2023-01-31 -0.348578 -0.033314 -0.188314  0.453793  2.0\n",
            "2023-02-01  0.864936  1.181063  0.867173  0.825221  2.0\n",
            "2023-02-02  0.863400 -1.335263  1.753393  0.335005  2.0\n"
          ]
        }
      ]
    }
  ]
}